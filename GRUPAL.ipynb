{
 "cells": [
  {
   "cell_type": "code",
   "execution_count": 78,
   "metadata": {},
   "outputs": [],
   "source": [
    "import requests\n",
    "from bs4 import BeautifulSoup\n",
    "from textblob import TextBlob\n",
    "import re"
   ]
  },
  {
   "cell_type": "code",
   "execution_count": 98,
   "metadata": {},
   "outputs": [],
   "source": [
    "def fetch_page_content(url):\n",
    "    # ... Código para obtener el contenido de la página \n",
    "    try:\n",
    "        response = requests.get(url)\n",
    "        response.raise_for_status()  # Verifica si la solicitud fue exitosa\n",
    "    except requests.exceptions.RequestException as e:\n",
    "        print(\"Error al acceder a la página:\", e)\n",
    "\n",
    "    # Analiza el contenido HTML de la página web\n",
    "    soup = BeautifulSoup(response.text, \"html.parser\")\n",
    "\n",
    "    # Encuentra y extrae todo el texto de la página\n",
    "    page_text = soup.get_text()\n",
    "\n",
    "    print(\"Texto completo de la página:\")\n",
    "    text_without_newlines = re.sub(r'\\s+', ' ', page_text)\n",
    "\n",
    "    return text_without_newlines"
   ]
  },
  {
   "cell_type": "code",
   "execution_count": 85,
   "metadata": {},
   "outputs": [],
   "source": [
    "def analyze_sentiments(text):\n",
    "    # ... Código para el análisis de sentimientos ...\n",
    "    analysis = TextBlob(text)\n",
    "    sentiment_score = analysis.sentiment.polarity\n",
    "\n",
    "    if sentiment_score > 0:\n",
    "        sentiment = 'Positivo'\n",
    "    elif sentiment_score == 0:\n",
    "        sentiment = 'Neutral'\n",
    "    else:\n",
    "        sentiment = 'Negativo'\n",
    "\n",
    "    return sentiment, sentiment_score\n"
   ]
  },
  {
   "cell_type": "code",
   "execution_count": 91,
   "metadata": {},
   "outputs": [],
   "source": [
    "def classify_words(text):\n",
    "    # ... Código para clasificar palabras ...\n",
    "        # Dividir el texto en palabras\n",
    "    words = text.split()\n",
    "\n",
    "    # Clasificar las palabras como positivas, negativas o neutrales\n",
    "    positive_words = []\n",
    "    negative_words = []\n",
    "\n",
    "    for word in words:\n",
    "        word_analysis = TextBlob(word)\n",
    "        word_polarity = word_analysis.sentiment.polarity\n",
    "        if word_polarity > 0:\n",
    "            positive_words.append(word)\n",
    "        elif word_polarity < 0:\n",
    "            negative_words.append(word)\n",
    "    return positive_words, negative_words\n"
   ]
  },
  {
   "cell_type": "code",
   "execution_count": 99,
   "metadata": {},
   "outputs": [],
   "source": [
    "import requests\n",
    "from bs4 import BeautifulSoup\n",
    "from textblob import TextBlob\n",
    "import re\n",
    "\n",
    "def scrap_and_analyze(url):\n",
    "    # ... Código para obtener el contenido de la página\n",
    "    page_text=fetch_page_content(\"https://abcnews.go.com/Politics/dramatic-israel-warzone-visit-bidens-personal-diplomacy-put/story?id=104046270\")\n",
    "    # Imprimir texto de la pagina\n",
    "    print(page_text)\n",
    "\n",
    "\n",
    "    # ... Código para el análisis de sentimientos ...\n",
    "    sentiment,sentiment_score=analyze_sentiments(page_text)\n",
    "    # Imprimir los resultados del análisis de sentimientos\n",
    "    print(\"\\nAnálisis de Sentimientos:\")\n",
    "    print(\"Sentimiento: \", sentiment)\n",
    "    print(\"Puntuación de Sentimiento: \", sentiment_score)\n",
    "\n",
    "\n",
    "    # ... Código para clasificar palabras ...\n",
    "    positive_words,negative_words=classify_words(page_text)\n",
    "    # Imprimir las palabras clasificadas como positivas y negativas\n",
    "    print(\"\\nPalabras Positivas:\")\n",
    "    print(positive_words)\n",
    "\n",
    "    print(\"\\nPalabras Negativas:\")\n",
    "    print(negative_words)   "
   ]
  },
  {
   "cell_type": "code",
   "execution_count": 100,
   "metadata": {},
   "outputs": [
    {
     "name": "stdout",
     "output_type": "stream",
     "text": [
      "Texto completo de la página:\n",
      " With Israel war zone visit, Biden's personal diplomacy put to the test: ANALYSIS - ABC News ABC NewsVideoLiveShowsElection 2024538Interest Successfully AddedWe'll notify you here with news aboutTurn on desktop notifications for breaking stories about interest? OffOnStream onWith Israel war zone visit, Biden's personal diplomacy put to the test: ANALYSISA hospital blast in Gaza led to meetings with key leaders being canceled.BySelina Wang and Mary BruceOctober 17, 2023, 7:21 PM2:42President Joe Biden boards Air Force One for travel to Tel Aviv, Israel, from Joint Base Andrews, Md., Oct. 17, 2023.Leah Millis/ReutersPresident Joe Biden headed to Israel Tuesday evening in a dramatic show of support for a key U.S. ally, while sending a strong message to Iran and Hezbollah to not interfere in the growing crisis.But in making a personally dangerous visit to an active war zone, he also is taking a high-stakes political gamble.He needs to walk away from this trip with more than just an endorsement of Israel's right to defend itself. He needs to show his visit made a difference. And he runs the risk of coming up empty-handed.He must walk a fine line between seeking to reaffirm America's rock-solid support for Israel while at the same time urging restraint in its expected incursion into Gaza and insisting Israel allow humanitarian aid into the enclave.President Joe Biden arrives to board Air Force One for a trip to Israel, Oct. 17, 2023, at Andrews Air Force Base, Md.Evan Vucci/APMORE: Israel-Gaza updates: Israeli forces preparing for 'wide range of offensive plans'The White House has said he will focus on the \"critical need for humanitarian assistance to get into Gaza, as well as the ability for innocent people to get out.\"What Biden can achieve through personal diplomacy, though, was quickly put in doubt.Just hours before he was set to leave, the Gaza Health Ministry reported at least 500 people were killed by a blast at a hospital that serves as a shelter for residents who fled their homes. Gazan health authorities said the explosion was caused by an Israeli airstrike. The Israel Defense Forces denied responsibility. The White House was not commenting.Palestinians injured in Israeli raids arrive on October 17, 2023, in Khan Yunis, in the southern Gaza Strip, Gaza.Ahmad Hasaballah/Getty ImagesMORE: Hundreds killed in strike on Gaza hospital: Gaza Health MinistryFollowing the explosion, Palestinian Authority President Mahmoud Abbas canceled a scheduled meeting with Biden in Jordan and shortly after that -- the entire Jordan leg of his visit was called off.A White House official said Biden was postponing a meeting as well with Jordan's King Abdullah and Egypt's President Abdel Fattah Al- Sisi, calling it a \"mutual decision.\"As he flew to Israel overnight on Air Force One, he issued a statement, saying, \"I am outraged and deeply saddened by the explosion at the Al Ahli Arab hospital in Gaza, and the terrible loss of life that resulted. Immediately upon hearing this news, I spoke with King Abdullah II of Jordan, and Prime Minister Netanyahu of Israel and have directed my national security team to continue gathering information about what exactly happened,\" he said. \"The United States stands unequivocally for the protection of civilian life during conflict and we mourn the patients, medical staff and other innocents killed or wounded in this tragedy.\"So far, the diplomatic efforts by Secretary of State Antony Blinken, who has been meeting with leaders in the region ahead of Biden's trip, have had little success.Israeli soldiers positioned outside kibbutz Beeri near the border with the Gaza Strip, Oct. 17, 2023.Jack Guez/AFP via Getty ImagesMORE: Why Biden's high-stakes Israel trip could be fraught with political risk: ANALYSISDespite negotiations with Egyptian and Israeli counterparts, the Rafah border crossing remained closed as of Tuesday night. No aid has been let into Gaza and no Americans or other foreign nationals -- not to mention Palestinians -- have been let out. The estimated 2 million civilians in Gaza are trapped and suffering, with fuel, water and electricity running out.While Biden has issued repeated strong warnings in recent days about protecting innocent civilians, the image of him standing side-by-side with Netanyahu could tie him more closely to the bloodshed in Gaza. His attempts to negotiate more humanitarian aid to Palestinians could be drowned out by the devastating attacks hitting civilians.Israeli Prime Minister Benjamin Netanyahu looks on during a press conference with German Chancellor Olaf Scholz after their meeting in Tel Aviv, Oct. 17, 2023.Maya Alleruzzo/POOL/AFP via Getty ImagesMORE: Rafah crossing: Why are people, aid stuck at Egypt-Gaza border?Underscoring that challenge are comments from King Abdullah at a news conference Tuesday, calling the influx of refugees into Jordan or Egypt a \"red line.\"\"I think that is the plan by certain of the usual suspects to try and create de facto issues on the ground,\" he said. \"No refugees in Jordan, no refugees in Egypt.\"The rapidly deteriorating situation in Gaza and continued bombing that kills civilians could sour global opinion against Israel and Biden's support of the U.S. ally.That negative opinion could be exacerbated if the ground war begins while Biden is on the ground or if it begins shortly after he leaves.As if to highlight the possible limits of what Biden can achieve, White House National Security Council spokesman John Kirby said the U.S. did not get any guarantees from Israel about delaying its ground invasion for the visit, saying \"we're not dictating terms or operational directions to the Israelis.\"Related TopicsIsrael-Hamas at warPresident BidenTop StoriesNatalee Holloway's mom says suspect admitted he killed her after 18 years1 hour agoNearly 200 decomposing bodies removed from funeral homeOct 18, 4:39 AMTrump fraud trial live updates: 'You lied yesterday,' Trump attorney accuses witness1 hour agoIsrael-Gaza live updates: Biden says humanitarian aid will flow from Egypt to GazaOct 18, 7:15 AMHouse speaker vote live updates: GOP likely to regroup after Jordan loses 2nd vote5 minutes agoABC News Live24/7 coverage of breaking news and live eventsABC News NetworkPrivacy PolicyYour US State Privacy RightsChildren's Online Privacy PolicyInterest-Based AdsAbout Nielsen MeasurementTerms of UseDo Not Sell or Share My Personal InformationContact Us © 2023 ABC News \n",
      "\n",
      "Análisis de Sentimientos:\n",
      "Sentimiento:  Negativo\n",
      "Puntuación de Sentimiento:  -0.03468980343980345\n",
      "\n",
      "Palabras Positivas:\n",
      "['Successfully', 'strong', 'more', 'right', 'fine', 'innocent', 'quickly', 'exactly', 'far,', 'near', 'strong', 'innocent', 'more', 'more', 'certain', 'live', 'live', 'live', 'live']\n",
      "\n",
      "Palabras Negativas:\n",
      "['Base', 'dramatic', 'dangerous', 'active', 'expected', 'Base,', \"'wide\", 'least', 'killed', 'killed', 'outraged', 'terrible', 'other', 'killed', 'little', 'closed', 'other', 'foreign', 'trapped', 'drowned', 'devastating', 'usual', 'sour', 'negative', 'killed', 'loses']\n"
     ]
    }
   ],
   "source": [
    "scrap_and_analyze(\"https://abcnews.go.com/Politics/dramatic-israel-warzone-visit-bidens-personal-diplomacy-put/story?id=104046270\")"
   ]
  }
 ],
 "metadata": {
  "kernelspec": {
   "display_name": "Python 3",
   "language": "python",
   "name": "python3"
  },
  "language_info": {
   "codemirror_mode": {
    "name": "ipython",
    "version": 3
   },
   "file_extension": ".py",
   "mimetype": "text/x-python",
   "name": "python",
   "nbconvert_exporter": "python",
   "pygments_lexer": "ipython3",
   "version": "3.9.7"
  }
 },
 "nbformat": 4,
 "nbformat_minor": 2
}
